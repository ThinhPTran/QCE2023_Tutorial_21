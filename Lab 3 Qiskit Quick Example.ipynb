{
 "cells": [
  {
   "cell_type": "code",
   "execution_count": 1,
   "id": "7b9bedde",
   "metadata": {},
   "outputs": [],
   "source": [
    "from qiskit_metal import designs, draw, MetalGUI, Dict, open_docs\n",
    "design = designs.DesignPlanar()\n",
    "design.overwrite_enabled = True\n",
    "design.chips.main\n",
    "design.chips.main.size.size_x = '11mm'\n",
    "design.chips.main.size.size_y = '9mm'\n",
    "gui = MetalGUI(design)"
   ]
  },
  {
   "cell_type": "code",
   "execution_count": 3,
   "id": "a27c9c28",
   "metadata": {},
   "outputs": [],
   "source": [
    "from qiskit_metal.qlibrary.qubits.transmon_pocket import TransmonPocket\n",
    "q1 = TransmonPocket(design, 'Q1', options=dict(connection_pads=dict(a=dict())))\n",
    "gui.rebuild()\n",
    "gui.edit_component('Q1')\n",
    "gui.autoscale()"
   ]
  },
  {
   "cell_type": "code",
   "execution_count": 6,
   "id": "41e88b48",
   "metadata": {},
   "outputs": [],
   "source": [
    "q1.options.pos_x = '0.5 mm'\n",
    "q1.options.pos_y = '0.5 mm'\n",
    "q1.options.pad_height = '90um'\n",
    "q1.options.pad_width  = '455um'\n",
    "q1.options.pad_gap    = '30 um'"
   ]
  },
  {
   "cell_type": "code",
   "execution_count": 7,
   "id": "c3d20262",
   "metadata": {},
   "outputs": [],
   "source": [
    "gui.rebuild()"
   ]
  },
  {
   "cell_type": "code",
   "execution_count": 8,
   "id": "c0410ac1",
   "metadata": {},
   "outputs": [],
   "source": [
    "all_component_names = design.components.keys()"
   ]
  },
  {
   "cell_type": "code",
   "execution_count": 9,
   "id": "f52ba063",
   "metadata": {},
   "outputs": [],
   "source": [
    "gui.zoom_on_components(all_component_names)"
   ]
  },
  {
   "cell_type": "code",
   "execution_count": 13,
   "id": "82587819",
   "metadata": {},
   "outputs": [
    {
     "data": {
      "text/plain": [
       "True"
      ]
     },
     "execution_count": 13,
     "metadata": {},
     "output_type": "execute_result"
    }
   ],
   "source": [
    "gui.main_window.close()"
   ]
  },
  {
   "cell_type": "code",
   "execution_count": null,
   "id": "33257a73",
   "metadata": {},
   "outputs": [],
   "source": []
  }
 ],
 "metadata": {
  "kernelspec": {
   "display_name": "Python 3 (ipykernel)",
   "language": "python",
   "name": "python3"
  },
  "language_info": {
   "codemirror_mode": {
    "name": "ipython",
    "version": 3
   },
   "file_extension": ".py",
   "mimetype": "text/x-python",
   "name": "python",
   "nbconvert_exporter": "python",
   "pygments_lexer": "ipython3",
   "version": "3.7.15"
  }
 },
 "nbformat": 4,
 "nbformat_minor": 5
}
